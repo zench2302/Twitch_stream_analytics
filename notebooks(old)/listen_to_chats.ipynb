{
  "nbformat": 4,
  "nbformat_minor": 0,
  "metadata": {
    "colab": {
      "provenance": []
    },
    "kernelspec": {
      "name": "python3",
      "display_name": "Python 3"
    },
    "language_info": {
      "name": "python"
    }
  },
  "cells": [
    {
      "cell_type": "code",
      "execution_count": null,
      "metadata": {
        "colab": {
          "base_uri": "https://localhost:8080/"
        },
        "id": "mnpdMop5vuQJ",
        "outputId": "6c82741f-08b5-44c9-bfbf-c21f19ebd49c"
      },
      "outputs": [
        {
          "output_type": "stream",
          "name": "stdout",
          "text": [
            "Collecting irc\n",
            "  Downloading irc-20.5.0-py3-none-any.whl.metadata (10 kB)\n",
            "Collecting jaraco.collections (from irc)\n",
            "  Downloading jaraco.collections-5.1.0-py3-none-any.whl.metadata (3.9 kB)\n",
            "Collecting jaraco.text>=3.14 (from irc)\n",
            "  Downloading jaraco.text-4.0.0-py3-none-any.whl.metadata (3.7 kB)\n",
            "Collecting jaraco.logging (from irc)\n",
            "  Downloading jaraco.logging-3.3.0-py3-none-any.whl.metadata (2.3 kB)\n",
            "Collecting jaraco.functools>=1.20 (from irc)\n",
            "  Downloading jaraco.functools-4.1.0-py3-none-any.whl.metadata (2.9 kB)\n",
            "Collecting jaraco.stream (from irc)\n",
            "  Downloading jaraco.stream-3.0.4-py3-none-any.whl.metadata (2.2 kB)\n",
            "Requirement already satisfied: pytz in /usr/local/lib/python3.11/dist-packages (from irc) (2025.1)\n",
            "Requirement already satisfied: more-itertools in /usr/local/lib/python3.11/dist-packages (from irc) (10.6.0)\n",
            "Collecting tempora>=1.6 (from irc)\n",
            "  Downloading tempora-5.8.0-py3-none-any.whl.metadata (3.3 kB)\n",
            "Requirement already satisfied: importlib-resources in /usr/local/lib/python3.11/dist-packages (from irc) (6.5.2)\n",
            "Collecting jaraco.context>=4.1 (from jaraco.text>=3.14->irc)\n",
            "  Downloading jaraco.context-6.0.1-py3-none-any.whl.metadata (4.1 kB)\n",
            "Collecting autocommand (from jaraco.text>=3.14->irc)\n",
            "  Downloading autocommand-2.2.2-py3-none-any.whl.metadata (15 kB)\n",
            "Requirement already satisfied: python-dateutil in /usr/local/lib/python3.11/dist-packages (from tempora>=1.6->irc) (2.8.2)\n",
            "Collecting backports.tarfile (from jaraco.context>=4.1->jaraco.text>=3.14->irc)\n",
            "  Downloading backports.tarfile-1.2.0-py3-none-any.whl.metadata (2.0 kB)\n",
            "Requirement already satisfied: six>=1.5 in /usr/local/lib/python3.11/dist-packages (from python-dateutil->tempora>=1.6->irc) (1.17.0)\n",
            "Downloading irc-20.5.0-py3-none-any.whl (75 kB)\n",
            "\u001b[2K   \u001b[90m━━━━━━━━━━━━━━━━━━━━━━━━━━━━━━━━━━━━━━━━\u001b[0m \u001b[32m75.5/75.5 kB\u001b[0m \u001b[31m2.9 MB/s\u001b[0m eta \u001b[36m0:00:00\u001b[0m\n",
            "\u001b[?25hDownloading jaraco.functools-4.1.0-py3-none-any.whl (10 kB)\n",
            "Downloading jaraco.text-4.0.0-py3-none-any.whl (11 kB)\n",
            "Downloading tempora-5.8.0-py3-none-any.whl (14 kB)\n",
            "Downloading jaraco.collections-5.1.0-py3-none-any.whl (11 kB)\n",
            "Downloading jaraco.logging-3.3.0-py3-none-any.whl (4.8 kB)\n",
            "Downloading jaraco.stream-3.0.4-py3-none-any.whl (6.1 kB)\n",
            "Downloading jaraco.context-6.0.1-py3-none-any.whl (6.8 kB)\n",
            "Downloading autocommand-2.2.2-py3-none-any.whl (19 kB)\n",
            "Downloading backports.tarfile-1.2.0-py3-none-any.whl (30 kB)\n",
            "Installing collected packages: jaraco.stream, jaraco.functools, backports.tarfile, autocommand, tempora, jaraco.context, jaraco.text, jaraco.logging, jaraco.collections, irc\n",
            "Successfully installed autocommand-2.2.2 backports.tarfile-1.2.0 irc-20.5.0 jaraco.collections-5.1.0 jaraco.context-6.0.1 jaraco.functools-4.1.0 jaraco.logging-3.3.0 jaraco.stream-3.0.4 jaraco.text-4.0.0 tempora-5.8.0\n"
          ]
        }
      ],
      "source": [
        "pip install irc"
      ]
    },
    {
      "cell_type": "code",
      "source": [
        "import socket\n",
        "import re\n",
        "from datetime import datetime\n",
        "\n",
        "# 替换为你的 Twitch OAuth Token（格式：\"oauth:xxxxxx\"）\n",
        "OAUTH_TOKEN = \"oauth:2681ejmtnmydkjoh8zbzm3tavami64\"\n",
        "# 替换为你的 Twitch 用户名\n",
        "USERNAME = \"danieljia36\"\n",
        "# 要监听的频道（不带 \"#\"，如 \"ninja\"）\n",
        "CHANNEL = \"necros\"\n",
        "\n",
        "# 连接 Twitch IRC 服务器\n",
        "server = 'irc.chat.twitch.tv'\n",
        "port = 6667\n",
        "\n",
        "def connect():\n",
        "    sock = socket.socket()\n",
        "    sock.connect((server, port))\n",
        "\n",
        "    # 认证\n",
        "    sock.send(f\"PASS {OAUTH_TOKEN}\\n\".encode('utf-8'))\n",
        "    sock.send(f\"NICK {USERNAME}\\n\".encode('utf-8'))\n",
        "    sock.send(f\"JOIN #{CHANNEL}\\n\".encode('utf-8'))\n",
        "\n",
        "    return sock\n",
        "\n",
        "def listen_chat(sock):\n",
        "    while True:\n",
        "        resp = sock.recv(2048).decode('utf-8')\n",
        "\n",
        "        # 处理 PING 保持连接\n",
        "        if resp.startswith('PING'):\n",
        "            sock.send(\"PONG :tmi.twitch.tv\\n\".encode('utf-8'))\n",
        "\n",
        "        # 匹配并打印聊天消息\n",
        "        elif \"PRIVMSG\" in resp:\n",
        "            try:\n",
        "                username = re.search(r':(\\w+)!', resp).group(1)\n",
        "                message = re.search(r'PRIVMSG #[\\w]+ :(.*)', resp).group(1)\n",
        "                timestamp = datetime.now().strftime('%Y-%m-%d %H:%M:%S')  # 获取当前时间\n",
        "                print(f\"[{timestamp}] [{username}] >> {message}\")\n",
        "            except AttributeError:\n",
        "                # 忽略无法解析的消息\n",
        "                continue\n",
        "\n",
        "if __name__ == \"__main__\":\n",
        "    sock = connect()\n",
        "    listen_chat(sock)\n"
      ],
      "metadata": {
        "colab": {
          "base_uri": "https://localhost:8080/",
          "height": 358
        },
        "id": "WHLFR5jpyFUm",
        "outputId": "ec0d60ef-c7dc-4a74-9c78-b09d0c7b8665"
      },
      "execution_count": null,
      "outputs": [
        {
          "output_type": "stream",
          "name": "stdout",
          "text": [
            "[2025-03-12 14:47:56] [darkd_d0] >> W picks\n",
            "[2025-03-12 14:47:56] [knittens] >> spiderman is one of the few characters I still haven't selected once. this game play looks way too intimidating\n",
            "[2025-03-12 14:48:02] [k1ngcat27] >> Massive? picks\n"
          ]
        },
        {
          "output_type": "error",
          "ename": "KeyboardInterrupt",
          "evalue": "",
          "traceback": [
            "\u001b[0;31m---------------------------------------------------------------------------\u001b[0m",
            "\u001b[0;31mKeyboardInterrupt\u001b[0m                         Traceback (most recent call last)",
            "\u001b[0;32m<ipython-input-3-9c59ecb1aef8>\u001b[0m in \u001b[0;36m<cell line: 0>\u001b[0;34m()\u001b[0m\n\u001b[1;32m     46\u001b[0m \u001b[0;32mif\u001b[0m \u001b[0m__name__\u001b[0m \u001b[0;34m==\u001b[0m \u001b[0;34m\"__main__\"\u001b[0m\u001b[0;34m:\u001b[0m\u001b[0;34m\u001b[0m\u001b[0;34m\u001b[0m\u001b[0m\n\u001b[1;32m     47\u001b[0m     \u001b[0msock\u001b[0m \u001b[0;34m=\u001b[0m \u001b[0mconnect\u001b[0m\u001b[0;34m(\u001b[0m\u001b[0;34m)\u001b[0m\u001b[0;34m\u001b[0m\u001b[0;34m\u001b[0m\u001b[0m\n\u001b[0;32m---> 48\u001b[0;31m     \u001b[0mlisten_chat\u001b[0m\u001b[0;34m(\u001b[0m\u001b[0msock\u001b[0m\u001b[0;34m)\u001b[0m\u001b[0;34m\u001b[0m\u001b[0;34m\u001b[0m\u001b[0m\n\u001b[0m",
            "\u001b[0;32m<ipython-input-3-9c59ecb1aef8>\u001b[0m in \u001b[0;36mlisten_chat\u001b[0;34m(sock)\u001b[0m\n\u001b[1;32m     27\u001b[0m \u001b[0;32mdef\u001b[0m \u001b[0mlisten_chat\u001b[0m\u001b[0;34m(\u001b[0m\u001b[0msock\u001b[0m\u001b[0;34m)\u001b[0m\u001b[0;34m:\u001b[0m\u001b[0;34m\u001b[0m\u001b[0;34m\u001b[0m\u001b[0m\n\u001b[1;32m     28\u001b[0m     \u001b[0;32mwhile\u001b[0m \u001b[0;32mTrue\u001b[0m\u001b[0;34m:\u001b[0m\u001b[0;34m\u001b[0m\u001b[0;34m\u001b[0m\u001b[0m\n\u001b[0;32m---> 29\u001b[0;31m         \u001b[0mresp\u001b[0m \u001b[0;34m=\u001b[0m \u001b[0msock\u001b[0m\u001b[0;34m.\u001b[0m\u001b[0mrecv\u001b[0m\u001b[0;34m(\u001b[0m\u001b[0;36m2048\u001b[0m\u001b[0;34m)\u001b[0m\u001b[0;34m.\u001b[0m\u001b[0mdecode\u001b[0m\u001b[0;34m(\u001b[0m\u001b[0;34m'utf-8'\u001b[0m\u001b[0;34m)\u001b[0m\u001b[0;34m\u001b[0m\u001b[0;34m\u001b[0m\u001b[0m\n\u001b[0m\u001b[1;32m     30\u001b[0m \u001b[0;34m\u001b[0m\u001b[0m\n\u001b[1;32m     31\u001b[0m         \u001b[0;31m# 处理 PING 保持连接\u001b[0m\u001b[0;34m\u001b[0m\u001b[0;34m\u001b[0m\u001b[0m\n",
            "\u001b[0;31mKeyboardInterrupt\u001b[0m: "
          ]
        }
      ]
    },
    {
      "cell_type": "code",
      "source": [],
      "metadata": {
        "id": "_2Dqge7O0Wtr"
      },
      "execution_count": null,
      "outputs": []
    }
  ]
}